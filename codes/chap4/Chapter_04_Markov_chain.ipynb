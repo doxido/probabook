{
 "cells": [
  {
   "cell_type": "markdown",
   "metadata": {
    "collapsed": false
   },
   "source": [
    "# Chapter 04 <b>Markov Chain</b>"
   ]
  },
  {
   "cell_type": "markdown",
   "metadata": {
    "collapsed": false
   },
   "source": [
    "## I - <b>Discrete Time Markov Chain (DTMC)</b>"
   ]
  },
  {
   "cell_type": "code",
   "execution_count": 2,
   "metadata": {
    "collapsed": false
   },
   "outputs": [
   ],
   "source": [
    "import numpy as np\n",
    "import networkx as nx"
   ]
  },
  {
   "cell_type": "code",
   "execution_count": 3,
   "metadata": {
    "collapsed": false
   },
   "outputs": [
   ],
   "source": [
    "#\n",
    "def makeGraf(S,P):\n",
    "    dic={}\n",
    "    succ={s:set() for s in S}\n",
    "    for i in range(len(S)):\n",
    "        for j in range(len(S)):\n",
    "            if(P[i][j]!=0):\n",
    "                dic[(S[i],S[j])]=P[i][j]\n",
    "                succ[S[i]].add(S[j])\n",
    "    graf=nx.DiGraph(list(dic.keys()))\n",
    "    return graf,succ"
   ]
  },
  {
   "cell_type": "code",
   "execution_count": 4,
   "metadata": {
    "collapsed": false
   },
   "outputs": [
   ],
   "source": [
    "#\n",
    "def makeAB(S,P):\n",
    "    n=len(S)\n",
    "    P1=P.transpose()-np.identity(n)\n",
    "    A=np.vstack([P1,np.ones(n)])\n",
    "    B=np.zeros(n+1)\n",
    "    B[n]=1\n",
    "    return A,B"
   ]
  },
  {
   "cell_type": "code",
   "execution_count": 5,
   "metadata": {
    "collapsed": false
   },
   "outputs": [
   ],
   "source": [
    "#\n",
    "def is_distribution(v):\n",
    "    for i in range(len(v)):\n",
    "        if ((v[i]>1) or (v[i]<0)): return False\n",
    "    if(sum(v)!=1): return False\n",
    "    return True"
   ]
  },
  {
   "cell_type": "code",
   "execution_count": 6,
   "metadata": {
    "collapsed": false
   },
   "outputs": [
   ],
   "source": [
    "#\n",
    "def makeAB(S,P):\n",
    "    n=len(S)\n",
    "    P1=P.transpose()\n",
    "    A=np.vstack([P1,[1 for i in range(n)]])\n",
    "    for i in range(n):\n",
    "        A[i][i]-=1\n",
    "    B=np.zeros(n+1)\n",
    "    B[n]=1\n",
    "    return A,B"
   ]
  },
  {
   "cell_type": "code",
   "execution_count": 7,
   "metadata": {
    "collapsed": false
   },
   "outputs": [
   ],
   "source": [
    "#CMTD.py\n",
    "\n",
    "import networkx as nx\n",
    "import numpy as np\n",
    "\n",
    "# CMTD Class\n",
    "class CMTD(object):\n",
    "\n",
    "    # constructor\n",
    "    def __init__(self,P ,S = None ,pi0 = None):\n",
    "        n = len(P)\n",
    "        pi0_default = np.zeros(n); pi0_default[0] = 1\n",
    "\n",
    "        # attributes of CMTD\n",
    "        self.P = np.array(P)\n",
    "        self.S = range(1,n+1) if S == None else S\n",
    "        self.pi0 = pi0_default if pi0 == None else np.array(pi0)\n",
    "\n",
    "        # checks if P and pi0 are stochastic\n",
    "        if((len(self.pi0) != n) or (not is_distribution(self.pi0))):\n",
    "            print(\"pi0 should be a stochastic vector\")\n",
    "            sys.exit(0)\n",
    "        stoc = (len(self.P) == n)\n",
    "        if(stoc):\n",
    "            for i in range(n):\n",
    "                if((len(P[i]) != n) or (not is_distribution(self.P[i]))):\n",
    "                    stoc = False;break\n",
    "        if(not stoc):\n",
    "            print(\"P should be a stochastic matrix\")\n",
    "            sys.exit(0)\n",
    "\n",
    "    # nSteps probabilities\n",
    "    def nSteps(self,n):\n",
    "        return self.pi0.dot(np.linalg.matrix_power(self.P,n))\n",
    "\n",
    "    # is_irreducible\n",
    "    def is_irreducible(self):\n",
    "        return(nx.is_strongly_connected(makeGraf(self.S,self.P)[0]))\n",
    "\n",
    "    # is_aperiodic\n",
    "    def is_aperiodic(self):\n",
    "        return(nx.is_aperiodic(makeGraf(self.S,self.P)[0]))\n",
    "\n",
    "    # is_ergodic\n",
    "    def is_ergodic(self):\n",
    "        return (self.is_irreducible() and self.is_aperiodic())\n",
    "\n",
    "    # classify\n",
    "    def classify(self):\n",
    "        graf, succ = makeGraf(self.S,self.P)\n",
    "        cfcs=list(nx.strongly_connected_components(graf))\n",
    "        classes={\"transitoire\":[],\"reccurente\":[]}\n",
    "        for i in range(len(cfcs)):\n",
    "            cfc , voisins = cfcs[i] ,set()\n",
    "            for s in cfc: voisins = voisins|succ[s]-cfc\n",
    "            classes[\"transitoire\" if(len(voisins)>0) else \"reccurente\"].append(cfc)\n",
    "        return classes\n",
    "\n",
    "    # hitting_time : average time to hit for the first time the state given in the argument\n",
    "    def hitting_time(self,state):\n",
    "        n, i = len(self.S), self.S.index(state)\n",
    "        I = np.identity(n); I[i,i] = 0;\n",
    "        g = np.ones(n); g[i]=0;\n",
    "        for k in range(n):\n",
    "            if(self.P[k,k] == 1): I[k,k], g[k] = 0, 0\n",
    "        return np.matmul(np.linalg.inv(np.identity(n)-np.matmul(I,self.P)), g)\n",
    "\n",
    "    # return_time : average return time to the state given in the argument\n",
    "    def return_time(self,state):\n",
    "        i = self.S.index(state)\n",
    "        return 1 + ( 0 if self.P[i,i] == 1 else  np.dot(self.P[i], self.hitting_time(state)))\n",
    "\n",
    "    # absorption probability\n",
    "    def absorbing_proba(self,state):\n",
    "        n, j = len(self.S) , self.S.index(state)\n",
    "        absorb = [i for i in range(n) if(self.P[i][i] == 1) ]\n",
    "        if(j not in absorb):\n",
    "            print(\"The state must be absorbant\")\n",
    "            sys.exit(0)\n",
    "        A, B = np.zeros((n,n)), np.zeros(n)\n",
    "        A[j][j], B[j] = 1 , 1\n",
    "        for i in range(n):\n",
    "            if(i != j):\n",
    "                if(i in absorb): A[i][i] = 1\n",
    "                else:\n",
    "                    for k in range(n):\n",
    "                        A[i][k] = self.P[i][k] if(k != i) else A[i][i]-1\n",
    "        return np.linalg.inv(A).dot(B)\n",
    "\n",
    "    # average absorption time\n",
    "    def absorbing_time(self):\n",
    "        n = len(self.S)\n",
    "        absorb = [i  for i in range(n) if(self.P[i][i] == 1)]\n",
    "        if(len(absorb) == 0):\n",
    "            print(\"No absorbant state exists!\")\n",
    "            sys.exit(0)\n",
    "        A, B = np.zeros((n,n)), np.zeros(n)\n",
    "        for i in range(n):\n",
    "            if(i in absorb): A[i][i]=1\n",
    "            else:\n",
    "                B[i] = -1\n",
    "                for j in range(n):\n",
    "                    if(j not in absorb): A[i][j]=self.P[i][j]\n",
    "                A[i][i] -= 1\n",
    "        return np.linalg.inv(A).dot(B)\n",
    "\n",
    "    # steady state probabilities\n",
    "    def steady_prob(self):\n",
    "        if(not self.is_ergodic()):return None\n",
    "        n = len(self.S)\n",
    "        A = np.vstack([self.P.T - np.identity(n),np.ones(n)])\n",
    "        B = np.append(np.zeros(n),1)\n",
    "        return np.linalg.lstsq(A,B)[0]"
   ]
  },
  {
   "cell_type": "code",
   "execution_count": 8,
   "metadata": {
    "collapsed": false
   },
   "outputs": [
    {
     "name": "stdout",
     "output_type": "stream",
     "text": [
      "[0.015625 0.328125 0.5625   0.09375 ]\n"
     ]
    }
   ],
   "source": [
    "#Code402.py\n",
    "#from CMTD import CMTD\n",
    "\n",
    "# Figurine example\n",
    "P = [[0.25, 0.75, 0.00, 0.00],\n",
    "     [0.00, 0.50, 0.50, 0.00],\n",
    "     [0.00, 0.00, 0.75, 0.25],\n",
    "     [0.00, 0.00, 0.00, 1.00]]\n",
    "\n",
    "print(CMTD(P).nSteps(3))\n",
    "\n",
    "#______________________________   Output  ____________________________________\n",
    "#[0.015625 0.328125 0.5625   0.09375 ]"
   ]
  },
  {
   "cell_type": "code",
   "execution_count": 9,
   "metadata": {
    "collapsed": false
   },
   "outputs": [
    {
     "name": "stdout",
     "output_type": "stream",
     "text": [
      "{'transitoire': [{5}, {3, 4}, {1, 2}], 'reccurente': [{8, 6, 7}]}\n",
      "False\n"
     ]
    }
   ],
   "source": [
    "#Code403.py\n",
    "\n",
    "# Classification example\n",
    "P = [[0.00, 1/2 , 1/2 , 0.00, 0.00, 0.00, 0.00, 0.00],\n",
    "     [1/3 , 2/3 , 0.00, 0.00, 0.00, 0.00, 0.00, 0.00],\n",
    "     [0.00, 0.00, 0.00, 1/4 , 0.00, 0.00, 0.00, 3/4 ],\n",
    "     [0.00, 0.00, 1/2 , 0.00, 1/2 , 0.00, 0.00, 0.00],\n",
    "     [0.00, 0.00, 0.00, 0.00, 0.00, 1.00, 0.00, 0.00],\n",
    "     [0.00, 0.00, 0.00, 0.00, 0.00, 0.00, 1.00, 0.00],\n",
    "     [0.00, 0.00, 0.00, 0.00, 0.00, 2/3 , 0.00, 1/3 ],\n",
    "     [0.00, 0.00, 0.00, 0.00, 0.00, 1.00, 0.00, 0.00]]\n",
    "\n",
    "print(CMTD(P).classify())\n",
    "print(CMTD(P).is_irreducible())\n",
    "#______________________________   Output  ______________________________________\n",
    "#{'transitoire': [{5}, {3, 4}, {1, 2}], 'reccurente': [{8, 6, 7}]}"
   ]
  },
  {
   "cell_type": "code",
   "execution_count": 12,
   "metadata": {
    "collapsed": false
   },
   "outputs": [
    {
     "name": "stdout",
     "output_type": "stream",
     "text": [
      "[3.5 1.5 0. ]\n",
      "3.499999999999999\n"
     ]
    }
   ],
   "source": [
    "#Code404.py\n",
    "#from CMTD import CMTD\n",
    "\n",
    "P = [[0.5, 0.5, 0.0],\n",
    "     [0.0, 1/3, 2/3],\n",
    "     [0.5, 0.5, 0.0]]\n",
    "\n",
    "print(CMTD(P).hitting_time(3))\n",
    "print(CMTD(P).return_time(1))\n",
    "\n",
    "#______________________________   Output  ______________________________________\n",
    "# [3.5 1.5 0. ]\n",
    "# 3.499999999999999"
   ]
  },
  {
   "cell_type": "code",
   "execution_count": 14,
   "metadata": {
    "collapsed": false
   },
   "outputs": [
    {
     "name": "stdout",
     "output_type": "stream",
     "text": [
      "[1.   0.5  0.25 0.  ]\n"
     ]
    }
   ],
   "source": [
    "#Code405.py\n",
    "#from CMTD import CMTD\n",
    "\n",
    "P = [[1.0, 0.0, 0.0, 0.0],\n",
    "     [1/3, 0.0, 2/3, 0.0],\n",
    "     [0.0, 1/2, 0.0, 1/2],\n",
    "     [0.0, 0.0, 0.0, 1.0]]\n",
    "\n",
    "print(CMTD(P).absorbing_proba(1))\n",
    "#______________________________   Output  ______________________________________\n",
    "#[1.   0.5  0.25 0.  ]"
   ]
  },
  {
   "cell_type": "code",
   "execution_count": 16,
   "metadata": {
    "collapsed": false
   },
   "outputs": [
    {
     "name": "stdout",
     "output_type": "stream",
     "text": [
      "[7.33333333 6.         4.         0.        ]\n"
     ]
    }
   ],
   "source": [
    "#Code406.py\n",
    "#from CMTD import CMTD\n",
    "\n",
    "P = [[1/4, 3/4, 0.0, 0.0],\n",
    "     [0.0, 1/2, 1/2, 0.0],\n",
    "     [0.0, 0.0, 3/4, 1/4],\n",
    "     [0.0, 0.0, 0.0, 1.0]]\n",
    "\n",
    "print(CMTD(P).absorbing_time())\n",
    "\n",
    "#______________________________   Output  ______________________________________\n",
    "#[7.33333333 6.         4.         0.        ]"
   ]
  },
  {
   "cell_type": "code",
   "execution_count": 17,
   "metadata": {
    "collapsed": false
   },
   "outputs": [
    {
     "name": "stdout",
     "output_type": "stream",
     "text": [
      "[0.59602649 0.17218543 0.23178808]\n"
     ]
    },
    {
     "name": "stderr",
     "output_type": "stream",
     "text": [
      "/tmp/ipykernel_1182/3922212723.py:113: FutureWarning: `rcond` parameter will change to the default of machine precision times ``max(M, N)`` where M and N are the input matrix dimensions.\n",
      "To use the future default and silence this warning we advise to pass `rcond=None`, to keep using the old, explicitly pass `rcond=-1`.\n",
      "  return np.linalg.lstsq(A,B)[0]\n"
     ]
    }
   ],
   "source": [
    "#Code407.py\n",
    "#from CMTD import CMTD\n",
    "\n",
    "P = [[0.70, 0.10, 0.20],\n",
    "     [0.50, 0.25, 0.25],\n",
    "     [0.40, 0.30, 0.30]]\n",
    "\n",
    "print(CMTD(P).steady_prob())\n",
    "\n",
    "#______________________________   Output  ______________________________________\n",
    "#[0.59602649 0.17218543 0.23178808]"
   ]
  },
  {
   "cell_type": "markdown",
   "metadata": {
    "collapsed": false
   },
   "source": [
    "## II - <b>Continuous Time Markov Chain (CTMC)</b>"
   ]
  },
  {
   "cell_type": "code",
   "execution_count": 20,
   "metadata": {
    "collapsed": false
   },
   "outputs": [
   ],
   "source": [
    "#CMTC.py\n",
    "\n",
    "import sys\n",
    "import numpy as np\n",
    "#from CMTD import CMTD\n",
    "\n",
    "# CMTD subclass of CMTD\n",
    "class CMTC(CMTD):\n",
    "\n",
    "    # constructor\n",
    "    def __init__(self,P, lambdas, S = None, pi0 = None ):\n",
    "        super().__init__(P ,S ,pi0)\n",
    "        n = len(P)\n",
    "        self.lambdas=np.array(lambdas)\n",
    "        if((len(self.lambdas) != n)or(len(list(filter(lambda x:x<0,self.lambdas))) != 0)):\n",
    "            print(\"lambdas should have \",n,\" positive values\")\n",
    "            sys.exit(0)\n",
    "        copyP = self.P.copy()\n",
    "        np.fill_diagonal(copyP,-1)\n",
    "        self.Q = np.matmul(self.lambdas * np.identity(n),copyP)\n",
    "\n",
    "    # steady state probabilities\n",
    "    def steady_prob(self):\n",
    "        n = len(self.S)\n",
    "        A = np.vstack([self.Q.T,np.ones(n)])\n",
    "        B = np.append(np.zeros(n),1)\n",
    "        return np.linalg.lstsq(A,B)[0]"
   ]
  },
  {
   "cell_type": "code",
   "execution_count": 21,
   "metadata": {
    "collapsed": false
   },
   "outputs": [
    {
     "name": "stdout",
     "output_type": "stream",
     "text": [
      "[0.15789474 0.63157895 0.21052632]\n"
     ]
    },
    {
     "name": "stderr",
     "output_type": "stream",
     "text": [
      "/tmp/ipykernel_1182/483006163.py:27: FutureWarning: `rcond` parameter will change to the default of machine precision times ``max(M, N)`` where M and N are the input matrix dimensions.\n",
      "To use the future default and silence this warning we advise to pass `rcond=None`, to keep using the old, explicitly pass `rcond=-1`.\n",
      "  return np.linalg.lstsq(A,B)[0]\n"
     ]
    }
   ],
   "source": [
    "#Code408.py\n",
    "#from CMTC import CMTC\n",
    "\n",
    "p = [[0.0, 1.0, 0.0],\n",
    "     [0.0, 0.0, 1.0],\n",
    "     [1/2, 1/2, 0.0]]\n",
    "lambdas = [2,1,3]\n",
    "\n",
    "continuous = CMTC(p, lambdas)\n",
    "print(continuous.steady_prob())\n",
    "\n",
    "#______________________________   Output  ______________________________________\n",
    "#[0.15789474 0.63157895 0.21052632]"
   ]
  },
  {
   "cell_type": "code",
   "execution_count": 22,
   "metadata": {
    "collapsed": false
   },
   "outputs": [
    {
     "name": "stdout",
     "output_type": "stream",
     "text": [
      "Hitting time:  [2. 2. 0.]\n"
     ]
    }
   ],
   "source": [
    "#Code409.py\n",
    "#from CMTC import CMTC\n",
    "\n",
    "p = [[0.0, 0.5, 0.5],\n",
    "     [0.5, 0.0, 0.5],\n",
    "     [0, 1, 0.0]]\n",
    "lambdas = [2,2,2]\n",
    "\n",
    "continuous = CMTC(p, lambdas)\n",
    "print(\"Hitting time: \",continuous.hitting_time(3))\n",
    "\n",
    "#______________________________   Output  ______________________________________\n",
    "# Hitting time:  [1. 1.]"
   ]
  },
  {
   "cell_type": "code",
   "execution_count": 24,
   "metadata": {
    "collapsed": false
   },
   "outputs": [
    {
     "name": "stdout",
     "output_type": "stream",
     "text": [
      "R :  [1.16336914 1.19219898 0.64443188]\n",
      "R :  [1.16336914 1.19219898 0.64443188]\n"
     ]
    },
    {
     "name": "stderr",
     "output_type": "stream",
     "text": [
      "/tmp/ipykernel_1182/2150649308.py:12: FutureWarning: `rcond` parameter will change to the default of machine precision times ``max(M, N)`` where M and N are the input matrix dimensions.\n",
      "To use the future default and silence this warning we advise to pass `rcond=None`, to keep using the old, explicitly pass `rcond=-1`.\n",
      "  return np.linalg.lstsq(M,B)[0]\n",
      "/tmp/ipykernel_1182/3922212723.py:113: FutureWarning: `rcond` parameter will change to the default of machine precision times ``max(M, N)`` where M and N are the input matrix dimensions.\n",
      "To use the future default and silence this warning we advise to pass `rcond=None`, to keep using the old, explicitly pass `rcond=-1`.\n",
      "  return np.linalg.lstsq(A,B)[0]\n"
     ]
    }
   ],
   "source": [
    "#Code410.py\n",
    "\n",
    "import numpy as np\n",
    "#from CMTD import CMTD\n",
    "\n",
    "def getRankPage(G,d):\n",
    "    N = len(G)\n",
    "    _output = list( map(lambda x: 0 if list(x).count(1) == 0 else  1/list(x).count(1) , G))\n",
    "    M = np.identity(N) - d * np.multiply(np.array(_output), G.T).T\n",
    "    M = np.vstack([M.T ,np.ones(N)])\n",
    "    B = np.hstack([np.ones(N)*(1-d), N])\n",
    "    return np.linalg.lstsq(M,B)[0]\n",
    "\n",
    "# Test with getRankPage\n",
    "d = 0.85\n",
    "A = np.array([[0, 1, 1],\n",
    "              [1, 0, 0],\n",
    "              [0, 1, 0]])\n",
    "print('R : ', getRankPage(A,d))\n",
    "\n",
    "# Test with the steady state computation\n",
    "G = [[0.050, 0.475, 0.475],\n",
    "     [0.900, 0.050, 0.050],\n",
    "     [0.050, 0.900, 0.050]]\n",
    "print( 'R : ', CMTD(G).steady_prob()*3)\n",
    "\n",
    "#______________________________   Output  ______________________________________\n",
    "# R : [1.16336914 1.19219898 0.64443188]\n",
    "# R : [1.16336914 1.19219898 0.64443188]"
   ]
  }
 ],
 "metadata": {
  "kernelspec": {
   "display_name": "Python 3 (system-wide)",
   "language": "python",
   "metadata": {
    "cocalc": {
     "description": "Python 3 programming language",
     "priority": 100,
     "url": "https://www.python.org/"
    }
   },
   "name": "python3",
   "resource_dir": "/ext/jupyter/kernels/python3"
  },
  "language_info": {
   "codemirror_mode": {
    "name": "ipython",
    "version": 3
   },
   "file_extension": ".py",
   "mimetype": "text/x-python",
   "name": "python",
   "nbconvert_exporter": "python",
   "pygments_lexer": "ipython3",
   "version": "3.8.10"
  }
 },
 "nbformat": 4,
 "nbformat_minor": 4
}