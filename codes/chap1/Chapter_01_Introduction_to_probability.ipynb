{
 "cells": [
  {
   "cell_type": "markdown",
   "metadata": {
    "collapsed": false
   },
   "source": [
    "# Chapter 1: Introduction to probabilty"
   ]
  },
  {
   "cell_type": "code",
   "execution_count": 282,
   "metadata": {
    "collapsed": false
   },
   "outputs": [
   ],
   "source": [
    "# utils.py\n",
    "\n",
    "#matplot\n",
    "import matplotlib.pyplot as plt\n",
    "\n",
    "#helpers\n",
    "from functools import partial\n",
    "from itertools import accumulate, product\n",
    "from fractions import Fraction\n",
    "\n",
    "#sympy\n",
    "from sympy import Symbol, Eq\n",
    "from sympy.stats import Die, Coin, density, given, FiniteRV, P"
   ]
  },
  {
   "cell_type": "code",
   "execution_count": 283,
   "metadata": {
    "collapsed": false
   },
   "outputs": [
   ],
   "source": [
    "# Fraction is a class that respresents rational numbers\n",
    "Fracstr = lambda p,q : str(Fraction(p,q))"
   ]
  },
  {
   "cell_type": "code",
   "execution_count": 284,
   "metadata": {
    "collapsed": false
   },
   "outputs": [
   ],
   "source": [
    "# To format the dictionary values to 2 decimal floats\n",
    "get_round_dic = lambda dic:{k:round(float(v),2) for k,v in dic.items()} "
   ]
  },
  {
   "cell_type": "code",
   "execution_count": 285,
   "metadata": {
    "collapsed": false
   },
   "outputs": [
   ],
   "source": [
    "# Returns the sample space (SS) of the random experiment (RE)\n",
    "get_Omega = lambda re: set(density(re).dict.keys()) "
   ]
  },
  {
   "cell_type": "code",
   "execution_count": 286,
   "metadata": {
    "collapsed": false
   },
   "outputs": [
   ],
   "source": [
    "# power: returns cartesian product of a set with itself n times\n",
    "set_Power = lambda omega,n: set(product(omega,repeat=n))"
   ]
  },
  {
   "cell_type": "code",
   "execution_count": 287,
   "metadata": {
    "collapsed": false
   },
   "outputs": [
   ],
   "source": [
    "# product: returns the cartesian product of the given sets\n",
    "set_Product = lambda omegas: set(product(*omegas))"
   ]
  },
  {
   "cell_type": "code",
   "execution_count": 288,
   "metadata": {
    "collapsed": false
   },
   "outputs": [
   ],
   "source": [
    "# filter: selects elements from a set based on some criterion\n",
    "set_Filter = lambda predicate,collection:set(filter(predicate,collection))"
   ]
  },
  {
   "cell_type": "code",
   "execution_count": 289,
   "metadata": {
    "collapsed": false
   },
   "outputs": [
   ],
   "source": [
    "# Pe: returns the probabbility of an event from equally likely SS\n",
    "Pe  = lambda Omega, Event : Fraction(len(Event), len(Omega))"
   ]
  },
  {
   "cell_type": "code",
   "execution_count": 290,
   "metadata": {
    "collapsed": false
   },
   "outputs": [
   ],
   "source": [
    "# Pde: returns the probabbility of an elementary event from equally likely SS\n",
    "Pde = lambda Omega : { omega : Fracstr(1,len(Omega)) for omega in Omega}"
   ]
  },
  {
   "cell_type": "code",
   "execution_count": 291,
   "metadata": {
    "collapsed": false
   },
   "outputs": [
   ],
   "source": [
    "# Pgiven: returns conditional probability of A given B\n",
    "Pgiven = lambda EventB,EventA :\\\n",
    "    Fraction(len(set(EventA) & set(EventB)), len(EventA))"
   ]
  },
  {
   "cell_type": "code",
   "execution_count": 292,
   "metadata": {
    "collapsed": false
   },
   "outputs": [
    {
     "name": "stdout",
     "output_type": "stream",
     "text": [
      "Omega 1 =  {'P', 'F'}\n",
      "Omega 3 =  {1, 2, 3, 4, 5, 6}\n",
      "Omega 5 =  {('F', 3), ('P', 3), ('F', 6), ('F', 2), ('P', 6), ('P', 2), ('F', 5), ('P', 5), ('F', 4), ('F', 1), ('P', 4), ('P', 1)}\n",
      "Omega 6 =  {('F', 'P', 'P'), ('F', 'P', 'F'), ('F', 'F', 'F'), ('P', 'F', 'P'), ('P', 'F', 'F'), ('P', 'P', 'P'), ('P', 'P', 'F'), ('F', 'F', 'P')}\n",
      "\n",
      " Using sympy.....................................\n",
      "\n",
      "- R1 Toss a coin omega :  {T, H}\n",
      "- R3 Roll die omega :  {1, 2, 3, 4, 5, 6}\n",
      "- R6 Toss coins omega :  {(H, H, T), (T, T, T), (T, H, H), (H, T, H), (H, H, H), (T, H, T), (T, T, H), (H, T, T)}\n"
     ]
    }
   ],
   "source": [
    "# Code101.py\n",
    "\n",
    "\"\"\"\n",
    "In this section package sympy.stats is used\n",
    "class Coin models the coin tossing experiment\n",
    "class Die models the die rolling experiment\n",
    "\"\"\"\n",
    "\n",
    "Omega1 = {'P','F'}                        ;print(\"Omega 1 = \",Omega1)\n",
    "Omega3 = set(range(1,7))                  ;print(\"Omega 3 = \",Omega3)\n",
    "Omega5 = set_Product([Omega1,Omega3])     ;print(\"Omega 5 = \",Omega5)\n",
    "Omega6 = set_Power(Omega1,3)              ;print(\"Omega 6 = \",Omega6)\n",
    "\n",
    "print(\"\\n Using sympy.....................................\\n\")\n",
    "#R1\n",
    "coin = Coin('Coin')\n",
    "coin_omega=get_Omega(coin)\n",
    "print(\"- R1 Toss a coin omega : \",coin_omega)\n",
    "\n",
    "#R3\n",
    "die = Die('Die')\n",
    "die_omega=get_Omega(die)\n",
    "print(\"- R3 Roll die omega : \",die_omega)\n",
    "\n",
    "#R6\n",
    "threeCoins_omega=set_Power(coin_omega,3)\n",
    "print(\"- R6 Toss coins omega : \", threeCoins_omega)"
   ]
  },
  {
   "cell_type": "code",
   "execution_count": 293,
   "metadata": {
    "collapsed": false,
    "scrolled": true
   },
   "outputs": [
    {
     "name": "stdout",
     "output_type": "stream",
     "text": [
      "Events manipulation (operations)\n",
      "Sample space Omega      :  {1, 2, 3, 4, 5, 6}\n",
      "Event A                 :  {2, 5}\n",
      "Event B                 :  {3, 4, 5}\n",
      "is A event of Omega     :  True\n",
      "Complement of A         :  {1, 3, 4, 6}\n",
      "Union of A and B        :  {2, 3, 4, 5}\n",
      "Intersection of A and B :  {5}\n",
      "Difference of A and B   :  {2}\n",
      "Symetric Diff A and B   :  {2, 3, 4}\n",
      "Event A even numbers  :  {2, 4, 6}\n",
      "Event Complement of A :  {1, 3, 5}\n"
     ]
    }
   ],
   "source": [
    "#Code102.py\n",
    "\n",
    "print(\"Events manipulation (operations)\")\n",
    "\n",
    "abc_Omega = {1,2,3,4,5,6}    ;print(\"Sample space Omega      : \",abc_Omega)\n",
    "A = {2,5}                    ;print(\"Event A                 : \", A)\n",
    "B = {3,4,5}                  ;print(\"Event B                 : \",B)\n",
    "isEvent = A < abc_Omega      ;print(\"is A event of Omega     : \", isEvent)\n",
    "a_bar = abc_Omega - A        ;print(\"Complement of A         : \", a_bar)\n",
    "C = A | B                    ;print(\"Union of A and B        : \", C)\n",
    "D = A & B                    ;print(\"Intersection of A and B : \", D)\n",
    "E = A - B                    ;print(\"Difference of A and B   : \", E)\n",
    "F = A ^ B                    ;print(\"Symetric Diff A and B   : \", F)\n",
    "\n",
    "# isEvenNumber: predicate to check if a number is even\n",
    "isEvenNumber = lambda nb : nb % 2 == 0\n",
    "\n",
    "die_omega=get_Omega(Die('Die'))\n",
    "evenNb =set_Filter(isEvenNumber,die_omega)\n",
    "print(\"Event A even numbers  : \", evenNb)\n",
    "\n",
    "evenNbComplement = set(die_omega) - set(evenNb)\n",
    "print(\"Event Complement of A : \", evenNbComplement)"
   ]
  },
  {
   "cell_type": "code",
   "execution_count": 294,
   "metadata": {
    "collapsed": false
   },
   "outputs": [
    {
     "name": "stdout",
     "output_type": "stream",
     "text": [
      "Event with two tails only :  {(T, T, H), (T, H, T), (H, T, T)}\n"
     ]
    }
   ],
   "source": [
    "#Code103.py\n",
    "\n",
    "# class Symbol sets symbols for algebric expressions. \"T\" for coin tail\n",
    "# twoTails: checks if the outcome has two tails\n",
    "twoTails = lambda triple : triple.count(Symbol(\"T\") )==2\n",
    "\n",
    "coin_omega=get_Omega(Coin('Coin'))\n",
    "threeCoins_omega = set_Power(coin_omega,3)\n",
    "has2Tails = set_Filter(twoTails,threeCoins_omega)\n",
    "print(\"Event with two tails only : \", has2Tails)"
   ]
  },
  {
   "cell_type": "code",
   "execution_count": 295,
   "metadata": {
    "collapsed": false
   },
   "outputs": [
    {
     "name": "stdout",
     "output_type": "stream",
     "text": [
      "Omega               :  {1, 2, 3, 4, 5, 6}\n",
      "Event A             :  {2, 5}\n",
      "Probability of A    :  1/3\n",
      "Probability App     :  {1: '1/6', 2: '1/6', 3: '1/6', 4: '1/6', 5: '1/6', 6: '1/6'}\n"
     ]
    }
   ],
   "source": [
    "#Code104.py\n",
    "\n",
    "# partial: returns a new function from the given one by setting the specified parameters\n",
    "Omega = {1,2,3,4,5,6}          ;print(\"Omega               : \", Omega)\n",
    "A     = {2,5}                  ;print(\"Event A             : \", A)\n",
    "pe    = partial(Pe,Omega)\n",
    "pe_A  = pe(A)                  ;print(\"Probability of A    : \", pe_A)\n",
    "pde   = Pde(Omega)             ;print(\"Probability App     : \", pde)"
   ]
  },
  {
   "cell_type": "code",
   "execution_count": 296,
   "metadata": {
    "collapsed": false,
    "scrolled": true
   },
   "outputs": [
    {
     "name": "stdout",
     "output_type": "stream",
     "text": [
      "- Drop 3 Dices Omega :  [(5, 1, 6), (5, 3, 3), (5, 4, 2), (2, 1, 6)]\n",
      "- Omega length :  216\n",
      "- Drop 3 Dices Omega :  {(5, 1, 6), (5, 3, 3), (5, 4, 2), (2, 1, 6), (1, 6, 6), (2, 2, 5), (6, 6, 4), (3, 2, 1), (2, 6, 5), (5, 2, 4), (5, 5, 3), (3, 1, 5), (3, 3, 2), (3, 6, 1), (4, 1, 2), (2, 4, 5), (6, 4, 6), (5, 3, 5), (5, 4, 4), (5, 6, 1), (3, 5, 2), (6, 1, 1), (4, 4, 3), (5, 2, 6), (1, 3, 2), (5, 5, 5), (3, 3, 4), (3, 6, 3), (4, 1, 4), (4, 3, 1), (6, 2, 2), (1, 1, 2), (5, 1, 1), (5, 4, 6), (1, 5, 2), (5, 6, 3), (1, 6, 1), (3, 5, 4), (6, 1, 3), (4, 2, 2), (4, 4, 5), (4, 6, 2), (6, 5, 3), (1, 3, 4), (1, 4, 3), (3, 3, 6), (3, 4, 5), (4, 1, 6), (6, 2, 4), (6, 4, 4), (1, 1, 4), (5, 1, 3), (1, 5, 4), (5, 6, 5), (1, 6, 3), (2, 2, 2), (3, 5, 6), (4, 2, 4), (6, 1, 5), (2, 6, 2), (2, 5, 4), (5, 2, 1), (4, 6, 4), (3, 1, 2), (4, 5, 6), (6, 5, 5), (1, 3, 6), (1, 4, 5), (2, 4, 2), (6, 2, 6), (2, 3, 6), (5, 1, 5), (5, 3, 2), (5, 4, 1), (1, 5, 6), (1, 6, 5), (2, 2, 4), (4, 2, 6), (6, 3, 1), (2, 6, 4), (2, 5, 6), (5, 2, 3), (1, 2, 1), (3, 1, 4), (3, 3, 1), (3, 2, 3), (4, 6, 6), (6, 6, 6), (5, 4, 3), (3, 5, 1), (2, 1, 1), (6, 3, 3), (4, 4, 2), (4, 5, 1), (2, 6, 6), (5, 2, 5), (1, 3, 1), (1, 2, 3), (3, 1, 6), (3, 3, 3), (3, 2, 5), (3, 4, 2), (2, 3, 1), (3, 6, 5), (4, 3, 3), (6, 4, 1), (5, 4, 5), (1, 5, 1), (3, 5, 3), (6, 1, 2), (2, 1, 3), (2, 5, 1), (4, 4, 4), (4, 6, 1), (4, 5, 3), (6, 3, 5), (6, 5, 2), (1, 3, 3), (1, 2, 5), (1, 4, 2), (3, 3, 5), (6, 6, 1), (3, 4, 4), (2, 3, 3), (4, 3, 5), (6, 4, 3), (1, 1, 6), (1, 6, 2), (6, 1, 4), (2, 1, 5), (2, 5, 3), (4, 4, 6), (4, 6, 3), (3, 1, 1), (4, 5, 5), (6, 5, 4), (6, 6, 3), (1, 4, 4), (3, 4, 6), (5, 5, 2), (4, 1, 1), (2, 3, 5), (2, 4, 4), (6, 4, 5), (1, 6, 4), (5, 3, 4), (2, 2, 6), (2, 5, 5), (5, 2, 2), (6, 5, 6), (3, 1, 3), (6, 6, 5), (3, 2, 2), (1, 4, 6), (5, 5, 4), (3, 6, 2), (4, 1, 3), (6, 2, 1), (2, 4, 6), (1, 1, 1), (5, 3, 6), (5, 6, 2), (6, 3, 2), (4, 4, 1), (4, 2, 1), (1, 2, 2), (3, 2, 4), (3, 4, 1), (5, 5, 6), (3, 6, 4), (4, 1, 5), (4, 3, 2), (6, 2, 3), (1, 1, 3), (5, 1, 2), (1, 5, 3), (2, 1, 2), (2, 2, 1), (3, 5, 5), (5, 6, 4), (4, 2, 3), (4, 5, 2), (6, 3, 4), (6, 5, 1), (1, 2, 4), (1, 4, 1), (2, 6, 1), (3, 2, 6), (3, 4, 3), (1, 3, 5), (2, 3, 2), (3, 6, 6), (2, 4, 1), (4, 3, 4), (6, 2, 5), (6, 4, 2), (1, 1, 5), (5, 1, 4), (5, 3, 1), (1, 5, 5), (2, 1, 4), (2, 2, 3), (2, 5, 2), (5, 6, 6), (4, 2, 5), (4, 5, 4), (6, 1, 6), (6, 3, 6), (6, 6, 2), (1, 2, 6), (2, 6, 3), (5, 5, 1), (4, 6, 5), (2, 3, 4), (2, 4, 3), (4, 3, 6)}\n",
      "- Proba mapping :  [((5, 1, 6), '1/216'), ((5, 3, 3), '1/216'), ((5, 4, 2), '1/216'), ((2, 1, 6), '1/216')]\n",
      "- E Length:  15\n",
      "- Probability of E :  5/72\n"
     ]
    }
   ],
   "source": [
    "#Code105.py\n",
    "\n",
    "die_Omega=get_Omega(Die('Die'))\n",
    "threeDices_Omega = set_Power(die_Omega , 3)\n",
    "\n",
    "print(\"- Drop 3 Dices Omega : \", list(threeDices_Omega)[:4])\n",
    "print(\"- Omega length : \"      , len(threeDices_Omega))\n",
    "\n",
    "print(\"- Drop 3 Dices Omega : \", threeDices_Omega)\n",
    "\n",
    "P_3Dices_Omega = Pde(threeDices_Omega)\n",
    "print(\"- Proba mapping : \"     , list(P_3Dices_Omega.items())[:4])\n",
    "\n",
    "# ev_Property: checks if the sum of the two first elements equals the 3rd one \n",
    "ev_Property = lambda omega : omega[0] + omega[1] == omega[2]\n",
    "E   = set_Filter(ev_Property, threeDices_Omega) ; print(\"- E Length: \",len(E))\n",
    "p_E = Pe(threeDices_Omega, E)                   ; print(\"- Probability of E : \",p_E)"
   ]
  },
  {
   "cell_type": "code",
   "execution_count": 297,
   "metadata": {
    "collapsed": false
   },
   "outputs": [
    {
     "name": "stdout",
     "output_type": "stream",
     "text": [
      "- Toss 2 Coins Omega :  {(T, T), (T, H), (H, T), (H, H)}\n",
      "- Proba map :  {(T, T): '1/4', (T, H): '1/4', (H, T): '1/4', (H, H): '1/4'}\n",
      "- Event E :  {(T, T), (T, H)}  Probability :  1/2\n",
      "- Event F :  {(T, T), (H, T)}  Probabulity :  1/2\n",
      "- Event E et F :  {(T, T)}  Probability :  1/4\n",
      "- Event K (E or F) :  {(T, T), (T, H), (H, T)}  Probability :  3/4\n"
     ]
    }
   ],
   "source": [
    "#Code106.py\n",
    "\n",
    "coin_Omega=get_Omega(Coin('Coin'))\n",
    "twoCoins_Omega = set_Power(coin_Omega, 2)\n",
    "print(\"- Toss 2 Coins Omega : \",twoCoins_Omega)\n",
    "\n",
    "p_2Coins_Omega = Pde(twoCoins_Omega)\n",
    "print(\"- Proba map : \",p_2Coins_Omega)\n",
    "\n",
    "# ev_Property: checks if the ith element of the outcome equals val\n",
    "ev_Property = lambda i, val, omega : omega[i] == val\n",
    "\n",
    "# set_Filter: filters the given SS using ev_Property with the specified parameters\n",
    "E   = set_Filter(partial(ev_Property,0, Symbol(\"T\")) , twoCoins_Omega)\n",
    "p_E = Pe(twoCoins_Omega, E)\n",
    "print(\"- Event E : \",E, \" Probability : \",p_E)\n",
    "\n",
    "F   = set_Filter(partial(ev_Property,1, Symbol(\"T\")) , twoCoins_Omega)\n",
    "p_F = Pe(twoCoins_Omega, F)\n",
    "print(\"- Event F : \",F, \" Probabulity : \",p_F)\n",
    "\n",
    "EF   = E & F\n",
    "p_EF = Pe(twoCoins_Omega, EF)\n",
    "print(\"- Event E et F : \",EF, \" Probability : \", p_EF)\n",
    "\n",
    "K   = E | F\n",
    "p_K = p_E + p_F - p_EF\n",
    "print(\"- Event K (E or F) : \", K, \" Probability : \", p_K)"
   ]
  },
  {
   "cell_type": "code",
   "execution_count": 298,
   "metadata": {
    "collapsed": false,
    "scrolled": true
   },
   "outputs": [
    {
     "name": "stdout",
     "output_type": "stream",
     "text": [
      "F( 23 ): 0.5072972343239857\n",
      "F( 30 ): 0.7063162427192688\n",
      "F( 41 ): 0.9031516114817354\n",
      "F( 57 ): 0.9901224593411699\n"
     ]
    },
    {
     "data": {
      "image/png": "[encoded data removed]",
      "text/plain": [
       "<Figure size 864x504 with 1 Axes>"
      ]
     },
     "execution_count": 298,
     "metadata": {
      "image/png": {
       "height": 440,
       "width": 721
      },
      "needs_background": "light"
     },
     "output_type": "execute_result"
    }
   ],
   "source": [
    "#Code107.py\n",
    "\n",
    "# function prod of numpy is used to compute the product of the vector's elements\n",
    "def get_birth(n, L):\n",
    "    import numpy as np\n",
    "\n",
    "    F = lambda n : 1 - np.prod([(365-i)/365 for i in range(n)])\n",
    "    E = [F(i) for i in range(n)]\n",
    "    for i in L :print(\"F(\",i,\"):\",F(i))\n",
    "    return E\n",
    "\n",
    "# plotter: plots the function associated with the birthday probability example\n",
    "def plotter(n,E):\n",
    "    import matplotlib.pyplot as plt\n",
    "\n",
    "    plt.plot(range(n), E, linewidth=1)\n",
    "    xpos = [23, 30, 41, 57]\n",
    "    for xc in xpos: plt.axvline(x=xc, color='r', linewidth=1, linestyle='--')\n",
    "\n",
    "    ypos = [0.5, 0.7, 0.9, 0.99]\n",
    "    for yc in ypos: plt.hlines(y=yc, xmin=0, xmax=100, linewidth=1, color='r',\n",
    "                               linestyle='--')\n",
    "\n",
    "    plt.xlabel('$n$'); \tplt.ylabel(r'$F(n)$'); plt.title('Birth day problem')\n",
    "    plt.show()\n",
    "\n",
    "n = 100\n",
    "L = [23,30,41,57]\n",
    "plotter(n,get_birth(n,L))"
   ]
  },
  {
   "cell_type": "code",
   "execution_count": 299,
   "metadata": {
    "collapsed": false
   },
   "outputs": [
    {
     "name": "stdout",
     "output_type": "stream",
     "text": [
      "F given Event :  {(4, 4), (4, 3), (4, 6), (4, 2), (4, 5), (4, 1)} , P(F)= 1/6\n",
      "E event :  {(2, 4), (1, 5), (5, 1), (4, 2), (3, 3)} , P(E)= 5/36\n",
      "E and F event :  {(4, 2)} , P(E & F)= 1/36\n",
      "Probability of E given F :  1/6\n"
     ]
    }
   ],
   "source": [
    "#Code108.py\n",
    "\n",
    "Omega = set_Power(range(1,7), 2)\n",
    "\n",
    "# set_Filter: filters the outcomes having the first element equals 4.\n",
    "F= set_Filter(lambda a: a[0] == 4,Omega)\n",
    "print(\"F given Event : \", F, \", P(F)=\", Pe(Omega,F))\n",
    "\n",
    "# set_Filter: filters the outcomes having the sum of the 1st and the 2nd elements equals 6.\n",
    "E= set_Filter(lambda a : a[0] + a[1] == 6,Omega)\n",
    "print(\"E event : \",E, \", P(E)=\", Pe(Omega,E))\n",
    "\n",
    "EF = E & F\n",
    "print(\"E and F event : \",EF, \", P(E & F)=\", Pe(Omega,EF))\n",
    "\n",
    "p_given_F = Pgiven(E,F)\n",
    "print(\"Probability of E given F : \", p_given_F)"
   ]
  },
  {
   "cell_type": "code",
   "execution_count": 300,
   "metadata": {
    "collapsed": false
   },
   "outputs": [
    {
     "name": "stdout",
     "output_type": "stream",
     "text": [
      "Probability of A: 2/5\n",
      "Probability of B: 2/5\n",
      "Probability of AB: 2/15\n",
      "Probability of B given A: 1/3\n"
     ]
    }
   ],
   "source": [
    "#Code109.py\n",
    "\n",
    "# get_diff_pairs: returns cartesian product of U discarding the diagonal elements\n",
    "def get_diff_pairs(U):\n",
    "    return [(i,j) for i in U for j in U if i!=j]\n",
    "\n",
    "R = { 'r1' , 'r2', 'r3',  'r4' }\n",
    "B = { 'b1', 'b2', 'b3', 'b4', 'b5', 'b6' }\n",
    "\n",
    "Omega = get_diff_pairs(R | B)\n",
    "Pr = partial(Pe,Omega)\n",
    "\n",
    "# selects the outcomes having the 1st element starting with 'r'\n",
    "A = set_Filter(lambda X:X[0][0] == 'r',Omega)\n",
    "print(\"Probability of A:\",Pr(A))\n",
    "\n",
    "B = set_Filter(lambda X:X[1][0] == 'r',Omega)\n",
    "print(\"Probability of B:\",Pr(B))\n",
    "\n",
    "AB = set_Filter(lambda X:X[0][0] == 'r' and X[1][0] == 'r',Omega)\n",
    "print(\"Probability of AB:\",Pr(AB))\n",
    "\n",
    "print(\"Probability of B given A:\",Pgiven(B,A))"
   ]
  },
  {
   "cell_type": "code",
   "execution_count": 301,
   "metadata": {
    "collapsed": false
   },
   "outputs": [
    {
     "name": "stdout",
     "output_type": "stream",
     "text": [
      "{('N', 1, 2): 0.0375, ('N', 2, 2): 0.0375, ('N', 3, 2): 0.0375, ('Y', 1, 1): 0.1, ('N', 4, 2): 0.0375, ('Y', 3, 3): 0.1, ('Y', 4, 4): 0.1, ('N', 2, 3): 0.0375, ('N', 3, 3): 0.0375, ('N', 1, 3): 0.0375, ('N', 4, 3): 0.0375, ('Y', 2, 2): 0.1, ('N', 1, 1): 0.0375, ('N', 2, 1): 0.0375, ('N', 1, 4): 0.0375, ('N', 3, 1): 0.0375, ('N', 2, 4): 0.0375, ('N', 4, 1): 0.0375, ('N', 3, 4): 0.0375, ('N', 4, 4): 0.0375}\n",
      "P(E|F) = 0.72727\n",
      "Bayes rule:  0.7272727272727273\n"
     ]
    }
   ],
   "source": [
    "#Code110.py\n",
    "\n",
    "N, p = 4, 0.4\n",
    "\n",
    "# omega's outcomes are represented as tuples (X,i,j) s.t :\n",
    "# X is Y if the student knows the answer and N otherwise\n",
    "# i is the correct answer and j is the given answer \n",
    "E = set(product({'N'},set(range(1,N+1)),set(range(1,N+1))))\n",
    "F = set([('Y',i,i) for i in range(1,N+1)])\n",
    "Omega = F.union(E)\n",
    "\n",
    "Dist =  { o : (1-p)/(N*N) if o[0]=='N' else p/N  for o in Omega }\n",
    "print(Dist)\n",
    "\n",
    "PF = 0; PEF=0\n",
    "for i in Omega:\n",
    "    if i[1] == i[2]: PF  += Dist[i]\n",
    "    if i[0] == 'Y' : PEF += Dist[i]\n",
    "\n",
    "print(\"P(E|F) = %0.5f\" % (PEF/PF))\n",
    "print(\"Bayes rule: \",N*p/(1+(N-1)* p))"
   ]
  },
  {
   "cell_type": "code",
   "execution_count": 302,
   "metadata": {
    "collapsed": false
   },
   "outputs": [
    {
     "name": "stdout",
     "output_type": "stream",
     "text": [
      "Distribution :  {(2, H, T): 0, (2, T, H): 0, (1, T, T): 0.125000000000000, (1, H, H): 0.125000000000000, (2, H, H): 0.500000000000000, (2, T, T): 0, (1, T, H): 0.125000000000000, (1, H, T): 0.125000000000000}\n",
      "Encoded distribution :  {212: 0, 221: 0, 122: 0.125000000000000, 111: 0.125000000000000, 211: 0.500000000000000, 222: 0, 121: 0.125000000000000, 112: 0.125000000000000}\n",
      "Probability of getting T in the first toss: 0.75\n",
      "Probability of getting T in the second toss: 0.75"
     ]
    },
    {
     "name": "stdout",
     "output_type": "stream",
     "text": [
      "\n",
      "Probability of choosing the first coin: 0.50\n",
      "Probability of A and B: 0.62\n",
      "Probability of A|C: 0.50\n",
      "Probability of B|C: 0.50\n",
      "Probability of A and B | C: 0.25\n"
     ]
    }
   ],
   "source": [
    "#Code111.py\n",
    "\n",
    "#pmf_i: returns the probability of getting tail in the ith toss of coin omega[0]\n",
    "pmf_i = (lambda omega, i :\n",
    "    (density(cf).dict[omega[i]] if omega[0]==1 else density(cu).dict[omega[i]]))\n",
    "\n",
    "# The outcome is encoded as follows (H=1, T=2):\n",
    "# chosen coin * 100 + 1st toss * 10 + 2nd toss\n",
    "encode_omega = (lambda o:\n",
    "                o[0]*100+(1 if o[1]==H else 2)*10+(1 if o[2] == H else 2))\n",
    "get_proba = lambda o : PC[o[0]] * pmf_i(o, 1) * pmf_i(o, 2)\n",
    "\n",
    "H = Symbol('H')\n",
    "\n",
    "# PC: chosen coin, cu: unfair coin, cf: fair coin\n",
    "PC, cu, cf  = { 1:1/2, 2:1/2}, Coin('CU', 1)  , Coin('CF')\n",
    "omegaPC , omegaC = PC.keys(), get_Omega(cf)\n",
    "\n",
    "# generates the SS of the experiment (X,Y,Z):\n",
    "# X is the chosen coin, Y, Z is the outcome of resp, the 1st and 2nd  toss\n",
    "Omega = set_Product([omegaPC, omegaC, omegaC])\n",
    "dist = { o: PC[o[0]]* pmf_i(o, 1) * pmf_i(o, 2)  for o in Omega }\n",
    "print(\"Distribution : \", dist)\n",
    "\n",
    "# Encodes the distribution's outcomes as numbers to make it easy for events handling\n",
    "dist_encoded = { encode_omega(o) : get_proba(o) for o in Omega }\n",
    "print(\"Encoded distribution : \",dist_encoded)\n",
    "\n",
    "X    = FiniteRV('X', dist_encoded)\n",
    "A    = X % 100 < 20   ; print(\"Probability of getting T in the first toss: %0.2f\" % P(A))\n",
    "B    = X % 10 < 2     ; print(\"Probability of getting T in the second toss: %0.2f\" % P(B))\n",
    "C    = X < 200        ; print(\"Probability of choosing the first coin: %0.2f\" % P(C))\n",
    "AB   = Eq(X % 100,11) ; print(\"Probability of A and B: %0.2f\" % P(AB))\n",
    "\n",
    "AGC  = given(A,C)     ; print(\"Probability of A|C: %0.2f\" % P(AGC))\n",
    "BGC  = given(B,C)     ; print(\"Probability of B|C: %0.2f\" % P(BGC))\n",
    "ABGC = given(AB,C)    ; print(\"Probability of A and B | C: %0.2f\" % P(ABGC))"
   ]
  }
 ],
 "metadata": {
  "kernelspec": {
   "display_name": "Python 3 (system-wide)",
   "language": "python",
   "metadata": {
    "cocalc": {
     "description": "Python 3 programming language",
     "priority": 100,
     "url": "https://www.python.org/"
    }
   },
   "name": "python3",
   "resource_dir": "/ext/jupyter/kernels/python3"
  },
  "language_info": {
   "codemirror_mode": {
    "name": "ipython",
    "version": 3
   },
   "file_extension": ".py",
   "mimetype": "text/x-python",
   "name": "python",
   "nbconvert_exporter": "python",
   "pygments_lexer": "ipython3",
   "version": "3.8.10"
  }
 },
 "nbformat": 4,
 "nbformat_minor": 4
}