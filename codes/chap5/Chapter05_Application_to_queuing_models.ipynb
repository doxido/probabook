{
 "cells": [
  {
   "cell_type": "markdown",
   "metadata": {
    "collapsed": false
   },
   "source": [
    "# <b></bApplication>Application to queuing models</b>"
   ]
  },
  {
   "cell_type": "markdown",
   "metadata": {
    "collapsed": false
   },
   "source": [
    "<center>\n",
    "<table>\n",
    "<tr><td>$\\lambda$</td><td>Average arrival rate (average number of arrivals per unit of time)</td></tr>\n",
    "<tr><td>$\\mu$</td><td>Average service rate (average number of customers completing the service per unit of time)</td></tr>\n",
    "    \n",
    "<tr><td>$\\pi_n$</td><td>Probability of having n clients in the system.</td></tr>\n",
    "<tr><td>L</td><td>Average number of customers in the station (waiting customer + customers being served)</td></tr>\n",
    "<tr><td>L$_q$</td><td>Average number of customers in the queue (excluding customers being served)</td></tr>\n",
    "<tr><td>W</td><td>Average customer response time (between entering and leaving the station)</td></tr>\n",
    "<tr><td>W$_q$</td><td>Average waiting time in the queue.</td></tr>\n",
    "<tr><td>$\\rho$</td><td>Utilization factor. i.e the fraction of the average time during which individual servers are busy.</td></tr>\n",
    "</table>\n",
    "</center>\n",
    "\n",
    "$$ \\rho=\\frac{B}{B+I}=\\frac{\\lambda}{s\\mu} $$\n",
    "\n",
    "$$\\pi_{n} = \\frac{s^{min(n, s)}}{min(n, s)!} \\rho^n \\pi_0  \\quad \\text{ for } 1 \\le n \\le s$$\n",
    "\n",
    "$$L=\\lambda \\times W$$\n",
    "\n",
    "$$L_q =  L - (1 - \\pi_0) = L - \\rho = \\lambda \\times W_q$$\n",
    "\n",
    "$$W = W_q + \\frac{1}{\\mu}  \\qquad (\\frac{1}{\\mu} \\textit{is the average service time)}$$\n",
    "\n",
    "\n"
   ]
  },
  {
   "cell_type": "code",
   "execution_count": 1,
   "metadata": {
    "collapsed": false
   },
   "outputs": [
   ],
   "source": [
    "#Code501.py\n",
    "\n",
    "from math import factorial"
   ]
  },
  {
   "cell_type": "code",
   "execution_count": 2,
   "metadata": {
    "collapsed": false
   },
   "outputs": [
   ],
   "source": [
    "# Queueing Class\n",
    "class Queueing(object):\n",
    "\n",
    "    # constructor\n",
    "    def __init__(self, model='MM1',  A='M' ,B='M' ,C=1, K=-1, P=None, D='FIFO', laws =None):\n",
    "        self.model =  model\n",
    "\n",
    "        self.s, self.k = C, K\n",
    "        self.lamda, self.mu = A['params']['lambda'], B['params']['mu']\n",
    "        self.rho = 1.0 * self.lamda/(self.s*self.mu)\n",
    "\n",
    "        self.p0 = laws[self.model]['p0'](rho1=self.rho, s=self.s , k=self.k)\n",
    "        self.pk = self.pn(self.k) if self.k > 0 else 0;\n",
    "        self.lamdae = (1 - ( 0 if self.k == -1 else self.pk)) * self.lamda\n",
    "        self.rhoe = 1.0 * self.lamdae/(self.s* self.mu)\n",
    "\n",
    "        #\n",
    "        self.Lq = laws[self.model]['Lq'](rho1=self.rhoe, s=self.s , k=self.k, p0=self.p0)\n",
    "        self.L  = self.Lq + self.s * self.rhoe\n",
    "        self.W = lambda q : (self.L if q == '' else self.Lq)/self.lamdae\n",
    "\n",
    "    # isErgodic\n",
    "    def isErgodic(self):\n",
    "        return self.rho < 1\n",
    "\n",
    "    # getStationaryProb\n",
    "    def pn(self,n):\n",
    "        pn0 = lambda n: self.s**min(self.s,n)/factorial(min(self.s,n)) * self.rho**n * self.p0\n",
    "        if n == 0 : return self.p0\n",
    "        if self.k != -1 and n > self.k  : return 0\n",
    "        return pn0(n)\n",
    "\n",
    "    # show perforamnces\n",
    "    def test(self):\n",
    "        print('==================' + self.model + ' =======================')\n",
    "        print(\"p0* :{:.5f}\".format(self.p0))\n",
    "        print(\"p1* :{:.5f}\".format(self.pn(1)))\n",
    "        print(\"Lq  :{:.2f}\".format(self.Lq))\n",
    "        print(\"L   :{:.2f}\".format(self.L))\n",
    "        print(\"W   :{:.2f}\".format(self.W('')))\n",
    "        print(\"Wq  :{:.2f}\".format(self.W('q')))"
   ]
  },
  {
   "cell_type": "markdown",
   "metadata": {
    "collapsed": false
   },
   "source": [
    "# M/M/1 system\n",
    "$$\n",
    "\\pi_0 =1-\\rho  \\\\\n",
    "$$\n",
    "\n",
    "$$\n",
    " L_q=\\frac{\\rho}{1-\\rho} -\\rho =\\frac{\\lambda}{\\mu-\\lambda} - \\rho =  \\frac{\\rho \\pi_0}{(1-\\rho)^2} - \\rho\n",
    " $$"
   ]
  },
  {
   "cell_type": "code",
   "execution_count": 3,
   "metadata": {
    "collapsed": false
   },
   "outputs": [
    {
     "name": "stdout",
     "output_type": "stream",
     "text": [
      "==================MM1 =======================\n",
      "p0* :0.33333\n",
      "p1* :0.22222\n",
      "Lq  :1.33\n",
      "L   :2.00\n",
      "W   :0.50\n",
      "Wq  :0.33\n"
     ]
    }
   ],
   "source": [
    "#Code502.py\n",
    "#from Code501 import Queueing\n",
    "\n",
    "# getMM1\n",
    "def getMM1(lamda, mu):\n",
    "    #\n",
    "    laws ={\n",
    "    'MM1' : {\n",
    "        'p0' : lambda **p: (1 - p['rho1']),                          # p0 = 1 - rho,\n",
    "        'Lq' : lambda **p: p['rho1'] / (1 - p['rho1']) - p['rho1'],  # Lq = L - rho\n",
    "        },\n",
    "    }\n",
    "\n",
    "    #=========================================================================\n",
    "    # Tests\n",
    "    qs = Queueing(\n",
    "            model = 'MM1', \n",
    "            A ={'D':'Pois' , 'params': { 'lambda': lamda}},\n",
    "            B ={'D':'Expo' , 'params': { 'mu': mu}},\n",
    "            laws = laws)\n",
    "    qs.test()\n",
    "\n",
    "\n",
    "if __name__ == \"__main__\":  getMM1(4,6)\n",
    "# ==================MM1 =======================\n",
    "# p0* :0.33333\n",
    "# p1* :0.22222\n",
    "# Lq  :1.33\n",
    "# L   :2.00\n",
    "# W   :0.50\n",
    "# Wq  :0.33"
   ]
  },
  {
   "cell_type": "markdown",
   "metadata": {
    "collapsed": false
   },
   "source": [
    "# M/M/1/K system\n",
    "$$\\Bigg\\{\n",
    "    \\begin{array}{ll}\n",
    "    \\frac{1-\\rho}{1-\\rho^{K+1}} & \\rho\\neq 1\\\\\n",
    "    \\frac{1}{K+1} & \\rho=1\n",
    "    \\end{array}\n",
    "$$\n",
    "\n",
    "$$\n",
    "L=\\frac{\\rho}{1-\\rho}=\\frac{\\lambda}{\\mu-\\lambda}=  \\frac{\\rho \\pi_0}{(1-\\rho)^2}\n",
    "$$"
   ]
  },
  {
   "cell_type": "code",
   "execution_count": 4,
   "metadata": {
    "collapsed": false
   },
   "outputs": [
    {
     "name": "stdout",
     "output_type": "stream",
     "text": [
      "==================MM1K =======================\n",
      "p0* :0.50006\n",
      "p1* :0.25003\n",
      "Lq  :0.50\n",
      "L   :1.00\n",
      "W   :0.20\n",
      "Wq  :0.10\n"
     ]
    }
   ],
   "source": [
    "#Code503.py\n",
    "\n",
    "#from Code501 import Queueing\n",
    "\n",
    "# p0\n",
    "def getP0(**p):\n",
    "    rho, k = p['rho1'], p['k']\n",
    "    return (1 - rho)/(1 - rho**(k+1))\n",
    "\n",
    "# Lq\n",
    "def getLq(**p):\n",
    "    rho, k, p0 = p['rho1'], p['k'], p['p0']    #\n",
    "    return rho/(1-rho) * ( 1 - p0 * (k*rho**k + 1))\n",
    "\n",
    "#\n",
    "laws ={ 'MM1K' : { 'p0' : getP0, 'Lq' : getLq, }}\n",
    "\n",
    "#=========================================================================\n",
    "# Tests\n",
    "def getMM1K(mu, lamda, K):\n",
    "    qs = Queueing(\n",
    "            model = 'MM1K', \n",
    "            A ={'D':'Pois' , 'params': { 'lambda': lamda}},\n",
    "            B ={'D':'Expo' , 'params': { 'mu': mu}},\n",
    "            C = 1,\n",
    "            K =  K,\n",
    "            laws=laws)\n",
    "    qs.test()\n",
    "\n",
    "if __name__ == \"__main__\": getMM1K(10, 5, 12)   \n",
    "# ==================MMS =======================\n",
    "# p0* :0.50006\n",
    "# p1* :0.25003\n",
    "# Lq  :0.50\n",
    "# L   :1.00\n",
    "# W   :0.20\n",
    "# Wq  :0.10"
   ]
  },
  {
   "cell_type": "markdown",
   "metadata": {
    "collapsed": false
   },
   "source": [
    "# M/M/s system\n",
    "$$\n",
    "\\pi_0 = \\left(  \\sum_{n=0}^{s-1} \\frac{s^n}{n!} \\rho^{n} +  \\frac{s^s}{s!} \\rho^{s} \\frac{1}{1 - \\rho}  \\right)^{-1}\n",
    "$$\n",
    "\n",
    "$$\n",
    "L=\\frac{\\rho}{1-\\rho}=\\frac{\\lambda}{\\mu-\\lambda}=  \\frac{\\rho \\pi_0}{(1-\\rho)^2}\n",
    "$$"
   ]
  },
  {
   "cell_type": "code",
   "execution_count": 5,
   "metadata": {
    "collapsed": false
   },
   "outputs": [
    {
     "name": "stdout",
     "output_type": "stream",
     "text": [
      "==================MMS =======================\n",
      "p0* :0.13043\n",
      "p1* :0.26087\n",
      "Lq  :0.17\n",
      "L   :2.17\n",
      "W   :0.22\n",
      "Wq  :0.02\n"
     ]
    }
   ],
   "source": [
    "#Code504.py\n",
    "#from Code501 import Queueing\n",
    "#from math import factorial\n",
    "\n",
    "#\n",
    "fsum01 = lambda rho,s, n : 1 if n == 0 else fsum01(rho,s, n-1) + (s**n/factorial(n))*rho**n\n",
    "\n",
    "# p0 :\n",
    "def getP0(**p):\n",
    "    rho,s = p['rho1'], p['s']\n",
    "    return 1/( fsum01(rho,s , s-1) + (s**s/factorial(s)) * rho**s * (1/(1 - rho)))\n",
    "\n",
    "# Lq\n",
    "def getLq(**p):\n",
    "    rho, s, p0 = p['rho1'], p['s'], p['p0']\n",
    "    return (s**s /factorial(s)) * p0 * rho**(s+1)/(1-rho)**2\n",
    "\n",
    "#\n",
    "laws ={ 'MMS' : { 'p0' : getP0,  'Lq' : getLq }}\n",
    "\n",
    "#=========================================================================\n",
    "# Tests\n",
    "def getMMS(mu, lamda, S):\n",
    "    qs = Queueing(\n",
    "            model = 'MMS', \n",
    "            A ={'D':'Pois' , 'params': { 'lambda': lamda}},\n",
    "            B ={'D':'Expo' , 'params': { 'mu': mu}},\n",
    "            C = S,\n",
    "            laws=laws)\n",
    "    qs.test()\n",
    "\n",
    "if __name__ == \"__main__\":  getMMS(5,10,4)\n",
    "# ==================MMS =======================\n",
    "# p0* :0.13043\n",
    "# p1* :0.26087\n",
    "# Lq  :0.17\n",
    "# L   :2.17\n",
    "# W   :0.22\n",
    "# Wq  :0.02"
   ]
  },
  {
   "cell_type": "markdown",
   "metadata": {
    "collapsed": false
   },
   "source": [
    "# M/M/s/K system\n",
    "\n",
    "$$\\pi_0 = \\left\\{\n",
    "\\begin{array}{ll}\n",
    "    \\left( \\sum_{n=0}^{s-1} \\frac{s^n}{n!} \\rho^{n} +  \\frac{s^s}{s!} \\rho^{s} \\frac{1 - \\rho^{K-s+1}}{1 - \\rho} \\right)^{-1} & \\rho\\neq 1  \\\\\n",
    "    \\left(\\sum_{n=0}^{s} \\frac{s^n}{n!}  +  \\frac{s^s}{s!}  (K-s) \\right)^{-1} &  \\rho=1\n",
    "\\end{array}\n",
    "\\right.\n",
    "$$\n",
    "\n",
    "$$\n",
    "L_q = \\left\\{\n",
    "        \\begin{array}{ll}\n",
    "        \\frac{s^s}{s!} \\pi_0 \\frac{\\rho^{s+1}}{(1 - \\rho)^2} ( 1 +(K-s)\\rho^{K-s+1} - (K-s+1)\\rho^{K-s} ) \\qquad \\rho \\neq 1\\\\\n",
    "        \\frac{s^s}{s!} \\pi_0 \\frac{(K-s+1)(K-s)}{2} \\qquad \\rho=1\n",
    "        \\end{array}\n",
    "\\right.\n",
    "$$"
   ]
  },
  {
   "cell_type": "code",
   "execution_count": 6,
   "metadata": {
    "collapsed": false
   },
   "outputs": [
    {
     "name": "stdout",
     "output_type": "stream",
     "text": [
      "==================MMSK =======================\n",
      "p0* :0.23092\n",
      "p1* :0.28865\n",
      "Lq  :0.79\n",
      "L   :2.04\n",
      "W   :0.41\n",
      "Wq  :0.16\n"
     ]
    }
   ],
   "source": [
    "#Code505.py\n",
    "#from Code501 import Queueing\n",
    "#from math import factorial\n",
    "\n",
    "#\n",
    "fsum = lambda rho,s, n : 1 if n == 0 else fsum(rho,s, n-1) + (s**n/factorial(n))*rho**n\n",
    "\n",
    "# p0\n",
    "def getP0(**p):\n",
    "    rho, s, k = p['rho1'], p['s'], p['k']\n",
    "    return 1/( fsum(rho,s , s-1)+((s**s/factorial(s))*rho**s * (1/(1 - rho)))*(1 - rho**(k-s+1)))\n",
    "\n",
    "# Lq\n",
    "def getLq(**p):\n",
    "    rho, s, k, p0 = p['rho1'], p['s'], p['k'], p['p0']\n",
    "    return (s**s /factorial(s))* rho**(s+1)*p0*((1+(k-s)*rho**(k-s+1)- \\\n",
    "           (k-s+1)*rho**(k-s))/(1 - rho)**2)\n",
    "\n",
    "#\n",
    "laws ={ 'MMSK' : { 'p0' : getP0, 'Lq' : getLq}}\n",
    "\n",
    "#=========================================================================\n",
    "# Tests\n",
    "def getMMSK(mu, lamda, S, K):\n",
    "    qs = Queueing(\n",
    "            model = 'MMSK', \n",
    "            A ={'D':'Pois' , 'params': { 'lambda': lamda}},\n",
    "            B ={'D':'Expo' , 'params': { 'mu': mu}},\n",
    "            C = S,\n",
    "            K = K,\n",
    "            laws=laws)\n",
    "    qs.test()\n",
    "\n",
    "if __name__ == \"__main__\": getMMSK(4, 5, 2, 15)\n",
    "\n",
    "# ==================MMSK =======================\n",
    "# p0* :0.23092\n",
    "# p1* :0.28865\n",
    "# Lq  :0.79\n",
    "# L   :2.04\n",
    "# W   :0.41\n",
    "# Wq  :0.16"
   ]
  }
 ],
 "metadata": {
  "kernelspec": {
   "display_name": "Python 3 (system-wide)",
   "language": "python",
   "metadata": {
    "cocalc": {
     "description": "Python 3 programming language",
     "priority": 100,
     "url": "https://www.python.org/"
    }
   },
   "name": "python3",
   "resource_dir": "/ext/jupyter/kernels/python3"
  },
  "language_info": {
   "codemirror_mode": {
    "name": "ipython",
    "version": 3
   },
   "file_extension": ".py",
   "mimetype": "text/x-python",
   "name": "python",
   "nbconvert_exporter": "python",
   "pygments_lexer": "ipython3",
   "version": "3.8.10"
  }
 },
 "nbformat": 4,
 "nbformat_minor": 4
}